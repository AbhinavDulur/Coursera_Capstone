{
 "cells": [
  {
   "cell_type": "markdown",
   "metadata": {},
   "source": [
    "# Introduction\n",
    "\n",
    "### Business Problem: A recent graduate is offered a job by Google, but he/she has to pick between various Google Office Branches. I will use my own personal experience as well as machine learning to develope a decision tree to help people select which location they are suited for.\n",
    "\n",
    "### Target Audience: Recent graduates and anyone that is offered a job by Google."
   ]
  },
  {
   "cell_type": "markdown",
   "metadata": {},
   "source": [
    "# Data\n",
    "\n",
    "## Foursquare location data will be used, as well as online data sets that contain data about all cities such as crime rate, cost of living, and average salary. Online data will be captured manually, and Foursquare location data will be captured using the Foursquare API."
   ]
  },
  {
   "cell_type": "markdown",
   "metadata": {},
   "source": [
    "### The first step is to import all of the necessary packages"
   ]
  },
  {
   "cell_type": "code",
   "execution_count": 1,
   "metadata": {},
   "outputs": [
    {
     "name": "stderr",
     "output_type": "stream",
     "text": [
      "C:\\ProgramData\\Anaconda3\\lib\\site-packages\\sklearn\\externals\\six.py:31: DeprecationWarning: The module is deprecated in version 0.21 and will be removed in version 0.23 since we've dropped support for Python 2.7. Please rely on the official version of six (https://pypi.org/project/six/).\n",
      "  \"(https://pypi.org/project/six/).\", DeprecationWarning)\n"
     ]
    }
   ],
   "source": [
    "#Importing packages\n",
    "import pandas as pd\n",
    "import numpy as np\n",
    "\n",
    "import json # library to handle JSON files\n",
    "\n",
    "import requests # library to handle requests\n",
    "from pandas.io.json import json_normalize # tranform JSON file into a pandas dataframe\n",
    "\n",
    "# Matplotlib and associated plotting modules\n",
    "import matplotlib.cm as cm\n",
    "import matplotlib.colors as colors\n",
    "import matplotlib.pyplot as plt\n",
    "\n",
    "# import k-means from clustering stage\n",
    "from sklearn.cluster import KMeans\n",
    "\n",
    "# map rendering library\n",
    "import folium \n",
    "\n",
    "# getting latitude and longitude coordinates\n",
    "from geopy.geocoders import Nominatim\n",
    "\n",
    "# Decision tree\n",
    "from sklearn.tree import DecisionTreeClassifier, plot_tree\n",
    "\n",
    "#Decision Tree Visualization\n",
    "from sklearn.externals.six import StringIO\n",
    "import pydotplus\n",
    "import matplotlib.image as mpimg\n",
    "from sklearn import tree\n",
    "%matplotlib inline \n",
    "\n",
    "\n",
    "pd.set_option('display.max_columns', None)\n",
    "pd.set_option('display.max_rows', None)"
   ]
  },
  {
   "cell_type": "markdown",
   "metadata": {},
   "source": [
    "### The next step is to use the Foursquare API to gather location data about nearby venues of all locations."
   ]
  },
  {
   "cell_type": "code",
   "execution_count": 49,
   "metadata": {},
   "outputs": [
    {
     "data": {
      "text/html": [
       "<div>\n",
       "<style scoped>\n",
       "    .dataframe tbody tr th:only-of-type {\n",
       "        vertical-align: middle;\n",
       "    }\n",
       "\n",
       "    .dataframe tbody tr th {\n",
       "        vertical-align: top;\n",
       "    }\n",
       "\n",
       "    .dataframe thead th {\n",
       "        text-align: right;\n",
       "    }\n",
       "</style>\n",
       "<table border=\"1\" class=\"dataframe\">\n",
       "  <thead>\n",
       "    <tr style=\"text-align: right;\">\n",
       "      <th></th>\n",
       "      <th>Name</th>\n",
       "      <th>Latitude</th>\n",
       "      <th>Longitude</th>\n",
       "    </tr>\n",
       "  </thead>\n",
       "  <tbody>\n",
       "    <tr>\n",
       "      <td>0</td>\n",
       "      <td>Google_NY</td>\n",
       "      <td>40.740874</td>\n",
       "      <td>-74.002056</td>\n",
       "    </tr>\n",
       "    <tr>\n",
       "      <td>1</td>\n",
       "      <td>Google_CA</td>\n",
       "      <td>37.421764</td>\n",
       "      <td>-122.084614</td>\n",
       "    </tr>\n",
       "    <tr>\n",
       "      <td>2</td>\n",
       "      <td>Google_TX</td>\n",
       "      <td>30.265984</td>\n",
       "      <td>-97.749341</td>\n",
       "    </tr>\n",
       "    <tr>\n",
       "      <td>3</td>\n",
       "      <td>Google_GA</td>\n",
       "      <td>33.782292</td>\n",
       "      <td>-84.387183</td>\n",
       "    </tr>\n",
       "    <tr>\n",
       "      <td>4</td>\n",
       "      <td>Google_MA</td>\n",
       "      <td>42.362772</td>\n",
       "      <td>-71.087257</td>\n",
       "    </tr>\n",
       "  </tbody>\n",
       "</table>\n",
       "</div>"
      ],
      "text/plain": [
       "        Name   Latitude   Longitude\n",
       "0  Google_NY  40.740874  -74.002056\n",
       "1  Google_CA  37.421764 -122.084614\n",
       "2  Google_TX  30.265984  -97.749341\n",
       "3  Google_GA  33.782292  -84.387183\n",
       "4  Google_MA  42.362772  -71.087257"
      ]
     },
     "execution_count": 49,
     "metadata": {},
     "output_type": "execute_result"
    }
   ],
   "source": [
    "#I will first get the latitude and longitude of all locations.\n",
    "\n",
    "geolocator = Nominatim(user_agent=\"Coursera_Capstone\")\n",
    "\n",
    "NY_location = geolocator.geocode(\"111 8th Avenue, New York, New York\")\n",
    "NY_latitude = NY_location.latitude\n",
    "NY_longitude = NY_location.longitude\n",
    "\n",
    "CA_location = geolocator.geocode('1600 Amphitheatre Parkway, California')\n",
    "CA_latitude = CA_location.latitude\n",
    "CA_longitude = CA_location.longitude\n",
    "\n",
    "TX_location = geolocator.geocode('500 W 2nd St, Texas')\n",
    "TX_latitude = TX_location.latitude\n",
    "TX_longitude = TX_location.longitude\n",
    "\n",
    "GA_location = geolocator.geocode('10 10th Street NE, Georgia')\n",
    "GA_latitude = GA_location.latitude\n",
    "GA_longitude = GA_location.longitude\n",
    "\n",
    "MA_location = geolocator.geocode('355 Main Street, Cambridge, MA')\n",
    "MA_latitude = MA_location.latitude\n",
    "MA_longitude = MA_location.longitude\n",
    "\n",
    "MI_location = geolocator.geocode('1450 Brickell Ave, Miami, Florida')\n",
    "MI_latitude = MI_location.latitude\n",
    "MI_longitude = MI_location.longitude\n",
    "\n",
    "CO_location = geolocator.geocode('2600 Pearl Street, Boulder, Colorado')\n",
    "CO_latitude = CO_location.latitude\n",
    "CO_longitude = CO_location.longitude\n",
    "\n",
    "NC_location = geolocator.geocode('200 West Franklin Street, Chapel Hill, North Carolina')\n",
    "NC_latitude = NC_location.latitude\n",
    "NC_longitude = NC_location.longitude\n",
    "\n",
    "VA_location = geolocator.geocode('1875 Explorer Street, Reston, Virginia')\n",
    "VA_latitude = VA_location.latitude\n",
    "VA_longitude = VA_location.longitude\n",
    "\n",
    "WA_location = geolocator.geocode('601 N. 34th Street, Seattle, Washington')\n",
    "WA_latitude = WA_location.latitude\n",
    "WA_longitude = WA_location.longitude\n",
    "\n",
    "\n",
    "\n",
    "\n",
    "#Creating a dataframe to hold all of this information\n",
    "df = pd.DataFrame(columns = ['Name', 'Latitude', 'Longitude'])\n",
    "df['Name'] = ['Google_NY', 'Google_CA', 'Google_TX', 'Google_GA', 'Google_MA', 'Google_MI', 'Google_CO', 'Google_NC', 'Google_VA', 'Google_WA']\n",
    "df['Latitude'] = [NY_latitude, CA_latitude, TX_latitude, GA_latitude, MA_latitude, MI_latitude, CO_latitude, NC_latitude, VA_latitude, WA_latitude]\n",
    "df['Longitude'] = [NY_longitude, CA_longitude, TX_longitude, GA_longitude, MA_longitude, MI_longitude, CO_longitude, NC_longitude, VA_longitude, WA_longitude]\n",
    "\n",
    "df.head()"
   ]
  },
  {
   "cell_type": "markdown",
   "metadata": {},
   "source": [
    "### I will now get the information from Foursquare.\n",
    "### I will limit my search to 100 locations and 500 meters around all buildings, which is a very walkable distance."
   ]
  },
  {
   "cell_type": "code",
   "execution_count": 50,
   "metadata": {},
   "outputs": [],
   "source": [
    "#Initial Parameters\n",
    "CLIENT_ID = 'DV5VFHJJVSUEUHTFVTDQXDCKZ23KG2Q4SCUKFOMJLKSSMX1H' \n",
    "CLIENT_SECRET = '0LHT1ZVBUHGHHIJS323EHDBDGBXUKTQMBSAVINOZOZG5LFXM' \n",
    "VERSION = '20180605'\n",
    "LIMIT = 100\n",
    "radius = 500"
   ]
  },
  {
   "cell_type": "code",
   "execution_count": 51,
   "metadata": {},
   "outputs": [],
   "source": [
    "#Using a function to get the information from Foursquare\n",
    "\n",
    "def getNearbyVenues(names, latitudes, longitudes, radius=500):\n",
    "    \n",
    "    venues_list=[]\n",
    "    for name, lat, lng in zip(names, latitudes, longitudes):\n",
    "        print(name)\n",
    "            \n",
    "        # create the API request URL\n",
    "        url = 'https://api.foursquare.com/v2/venues/explore?&client_id={}&client_secret={}&v={}&ll={},{}&radius={}&limit={}'.format(\n",
    "            CLIENT_ID, \n",
    "            CLIENT_SECRET, \n",
    "            VERSION, \n",
    "            lat, \n",
    "            lng, \n",
    "            radius, \n",
    "            LIMIT)\n",
    "            \n",
    "        # make the GET request\n",
    "        results = requests.get(url).json()[\"response\"]['groups'][0]['items']\n",
    "        \n",
    "        # return only relevant information for each nearby venue\n",
    "        venues_list.append([(\n",
    "            name, \n",
    "            lat, \n",
    "            lng, \n",
    "            v['venue']['name'], \n",
    "            v['venue']['location']['lat'], \n",
    "            v['venue']['location']['lng'],  \n",
    "            v['venue']['categories'][0]['name']) for v in results])\n",
    "\n",
    "    nearby_venues = pd.DataFrame([item for venue_list in venues_list for item in venue_list])\n",
    "    nearby_venues.columns = ['Location', \n",
    "                  'Location Latitude', \n",
    "                  'Location Longitude', \n",
    "                  'Venue', \n",
    "                  'Venue Latitude', \n",
    "                  'Venue Longitude', \n",
    "                  'Venue Category']\n",
    "    \n",
    "    return(nearby_venues)"
   ]
  },
  {
   "cell_type": "code",
   "execution_count": 52,
   "metadata": {},
   "outputs": [
    {
     "name": "stdout",
     "output_type": "stream",
     "text": [
      "Google_NY\n",
      "Google_CA\n",
      "Google_TX\n",
      "Google_GA\n",
      "Google_MA\n",
      "Google_MI\n",
      "Google_CO\n",
      "Google_NC\n",
      "Google_VA\n",
      "Google_WA\n"
     ]
    }
   ],
   "source": [
    "Google = getNearbyVenues(names=df['Name'], latitudes=df['Latitude'], longitudes=df['Longitude'])"
   ]
  },
  {
   "cell_type": "markdown",
   "metadata": {},
   "source": [
    "## Now, since all the locations are walking distance, I will delete the venue latitude and longitude. I will also delete the Venue name, and remove any duplicate Venue Categories, as one venue being present is enough for my taste. I will also clean up the dataframe so it is more readable."
   ]
  },
  {
   "cell_type": "code",
   "execution_count": 53,
   "metadata": {},
   "outputs": [],
   "source": [
    "Google_clean = Google.drop(['Venue', 'Venue Latitude', 'Venue Longitude'], axis = 1)\n",
    "\n",
    "Google_clean = Google_clean.drop_duplicates(subset=['Location', 'Venue Category'])\n",
    "\n",
    "Google_onehot = pd.get_dummies(Google_clean[['Venue Category']], prefix=\"\", prefix_sep=\"\")\n",
    "\n",
    "Google_onehot['Location'] = Google_clean['Location'] \n",
    "\n",
    "Google_onehot = Google_onehot.set_index('Location').reset_index()\n",
    "\n",
    "Google_grouped = Google_onehot.groupby('Location').sum().reset_index()"
   ]
  },
  {
   "cell_type": "markdown",
   "metadata": {},
   "source": [
    "### From personal experience of visiting all locations, I remember which locations I liked best due to the surrounding venues, and I will add that information in as well as add in average crime rate, average salary, and average cost of living."
   ]
  },
  {
   "cell_type": "code",
   "execution_count": 111,
   "metadata": {},
   "outputs": [],
   "source": [
    "#These numbers were gathered from various internet sources.\n",
    "\n",
    "Google_grouped['My Preference'] = ['Would like to work here', 'Would NOT like to work here', 'Would NOT like to work here', 'Would NOT like to work here', 'Would like to work here', 'Would NOT like to work here', 'Would like to work here', 'Would NOT like to work here', 'Would NOT like to work here', 'Would like to work here']\n",
    "Google_grouped['Average Salary (yearly)'] = [115000, 71000, 66000, 86000, 61000, 57000, 75000, 68000, 83000, 78000]\n",
    "Google_grouped['Average Cost of Living (median rent)'] = [3593, 1227, 1026, 3474, 1563, 1102, 5100, 1107, 2206, 2111]\n",
    "Google_grouped['Avearage Crime Rate (crime index)'] = [18, 7, 2, 19, 7, 40, 23, 8, 39, 2]"
   ]
  },
  {
   "cell_type": "markdown",
   "metadata": {},
   "source": [
    "### Now I will begin to create my decision tree. I won't be able to do any train/test split since I don't have that much data, but I will still be able to create this tree, and hopefully it will still provide some context."
   ]
  },
  {
   "cell_type": "code",
   "execution_count": 115,
   "metadata": {},
   "outputs": [
    {
     "data": {
      "image/png": "[encoded data removed]",
      "text/plain": [
       "<Figure size 720x720 with 1 Axes>"
      ]
     },
     "metadata": {
      "needs_background": "light"
     },
     "output_type": "display_data"
    }
   ],
   "source": [
    "X = Google_grouped.drop(['Location', 'My Preference'], axis = 1).values\n",
    "Y = Google_grouped['My Preference']\n",
    "plt.figure(figsize = (10,10))\n",
    "GoogleTree = DecisionTreeClassifier(criterion = \"entropy\", max_depth = 4)\n",
    "GoogleTree.fit(X, Y)\n",
    "plot_tree(GoogleTree, filled = True, feature_names = Google_grouped.drop(['Location', 'My Preference'], axis = 1).columns, class_names= np.unique(Y), node_ids = True, impurity = False, fontsize = 10)\n",
    "plt.show()"
   ]
  },
  {
   "cell_type": "markdown",
   "metadata": {},
   "source": [
    "# Methodology\n",
    "\n",
    "### I used a supervised machine learning technique, Decision Trees, to build my classifier. Due to the small sample size, I do not think it is prudent to do a train/test split. However, given a proper sample size (i.e. I actually visited many more google locations) then I would do the following:\n",
    "### Do a train/test split, and calculate the accuracy of my model using a Confusion Matrix."
   ]
  },
  {
   "cell_type": "markdown",
   "metadata": {},
   "source": [
    "# Results\n",
    "\n",
    "### Since the decision tree does not always result in the same tree, I have run the classifier numerous times and it is safe to assume that for this project that this is the optimal tree.\n",
    "### From the tree, we can see the first split occurs at the Average Cost of Living. So if the Average Cost of Living is indeed <= 1395.0 (monthly rent) then I would not like to work there. \n",
    "### If the location in question has a monthly rent of > 1395.0, then we can proceed to the next node.\n",
    "### Now, if the location does contain a Skating Rink, I would not like to work there. If the location does not, then I would like to work there. The main distinctive features that are shown is the median rent and the presence of a Skating Rink."
   ]
  },
  {
   "cell_type": "markdown",
   "metadata": {},
   "source": [
    "# Discussion\n",
    "\n",
    "### To reiterate, this tree could be made more robust with the inclusion of more data. However, to keep it realistic, I only included locations that I have actually personally visited. According to my tree, if someone my age is deciding between various Google office locations, then I would recommend them to look at the median rent as well as the presence of a Skating Rink.\n",
    "\n",
    "### I cannot be sure about the explanations behind this phenomena, but I can assume that I prefer high-rent areas due to the increased safety and quality of goods and services. I can also assume that I do not prefer Skating Rinks due to the crowd they typically attract (Skating Rinks are known to attract families and older individuals)."
   ]
  },
  {
   "cell_type": "markdown",
   "metadata": {},
   "source": [
    "# Conclusion\n",
    "\n",
    "### In conclusion, I have used personal experience, Foursquare location data, online sources, and supervised machine learning to create a Decision Tree Classifier to help recent graduates select a Google location to work for.\n",
    "### This classifier has concluded that to find the best location, one must look at the median rent and the presence of a Skating Rink.\n",
    "### In future work, to make the classifier more robust, I should visit more Google office locations, as well as add additional online data from various other online sources / API's."
   ]
  },
  {
   "cell_type": "code",
   "execution_count": null,
   "metadata": {},
   "outputs": [],
   "source": []
  }
 ],
 "metadata": {
  "kernelspec": {
   "display_name": "Python 3",
   "language": "python",
   "name": "python3"
  },
  "language_info": {
   "codemirror_mode": {
    "name": "ipython",
    "version": 3
   },
   "file_extension": ".py",
   "mimetype": "text/x-python",
   "name": "python",
   "nbconvert_exporter": "python",
   "pygments_lexer": "ipython3",
   "version": "3.7.4"
  }
 },
 "nbformat": 4,
 "nbformat_minor": 4
}
